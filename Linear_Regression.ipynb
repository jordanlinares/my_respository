{
 "cells": [
  {
   "cell_type": "markdown",
   "metadata": {},
   "source": [
    "# Linear regression with one variable"
   ]
  },
  {
   "cell_type": "markdown",
   "metadata": {},
   "source": [
    "In this part of this exercise, you will implement linear regression with one variable to predict profits for a food truck. Suppose you are the CEO of a restaurant franchise and are considering different cities for opening a new outlet. The chain already has trucks in various cities and you have data for profits and populations from the cities. You would like to use this data to help you select which city to expand to next."
   ]
  },
  {
   "cell_type": "markdown",
   "metadata": {},
   "source": [
    "## 1.Plotting the data"
   ]
  },
  {
   "cell_type": "code",
   "execution_count": 1,
   "metadata": {},
   "outputs": [
    {
     "data": {
      "text/html": [
       "<div>\n",
       "<style scoped>\n",
       "    .dataframe tbody tr th:only-of-type {\n",
       "        vertical-align: middle;\n",
       "    }\n",
       "\n",
       "    .dataframe tbody tr th {\n",
       "        vertical-align: top;\n",
       "    }\n",
       "\n",
       "    .dataframe thead th {\n",
       "        text-align: right;\n",
       "    }\n",
       "</style>\n",
       "<table border=\"1\" class=\"dataframe\">\n",
       "  <thead>\n",
       "    <tr style=\"text-align: right;\">\n",
       "      <th></th>\n",
       "      <th>Population of City in 10,000s</th>\n",
       "      <th>Profit in $10,000s</th>\n",
       "    </tr>\n",
       "  </thead>\n",
       "  <tbody>\n",
       "    <tr>\n",
       "      <td>0</td>\n",
       "      <td>6.1101</td>\n",
       "      <td>17.5920</td>\n",
       "    </tr>\n",
       "    <tr>\n",
       "      <td>1</td>\n",
       "      <td>5.5277</td>\n",
       "      <td>9.1302</td>\n",
       "    </tr>\n",
       "    <tr>\n",
       "      <td>2</td>\n",
       "      <td>8.5186</td>\n",
       "      <td>13.6620</td>\n",
       "    </tr>\n",
       "    <tr>\n",
       "      <td>3</td>\n",
       "      <td>7.0032</td>\n",
       "      <td>11.8540</td>\n",
       "    </tr>\n",
       "    <tr>\n",
       "      <td>4</td>\n",
       "      <td>5.8598</td>\n",
       "      <td>6.8233</td>\n",
       "    </tr>\n",
       "  </tbody>\n",
       "</table>\n",
       "</div>"
      ],
      "text/plain": [
       "   Population of City in 10,000s  Profit in $10,000s\n",
       "0                         6.1101             17.5920\n",
       "1                         5.5277              9.1302\n",
       "2                         8.5186             13.6620\n",
       "3                         7.0032             11.8540\n",
       "4                         5.8598              6.8233"
      ]
     },
     "execution_count": 1,
     "metadata": {},
     "output_type": "execute_result"
    }
   ],
   "source": [
    "#Análisis de datos\n",
    "import pandas as pd\n",
    "import numpy as np\n",
    "\n",
    "#Visualización \n",
    "import seaborn as sns\n",
    "import matplotlib.pyplot as plt\n",
    "%matplotlib inline\n",
    "\n",
    "headers = ['Population of City in 10,000s','Profit in $10,000s']\n",
    "df = pd.read_csv('ex1data1.txt', header=None, names=headers)\n",
    "df.head()"
   ]
  },
  {
   "cell_type": "code",
   "execution_count": 2,
   "metadata": {},
   "outputs": [
    {
     "data": {
      "image/png": "[encoded data removed]",
      "text/plain": [
       "<Figure size 432x288 with 1 Axes>"
      ]
     },
     "metadata": {
      "needs_background": "light"
     },
     "output_type": "display_data"
    }
   ],
   "source": [
    "#Particionamos nuestra base de datos\n",
    "m,n = df.shape #number of training examples\n",
    "df.insert(0, \"0's\", np.ones((m,1)), True) #Add a column of ones to x\n",
    "X = df[[\"0's\", \"Population of City in 10,000s\"]].values\n",
    "y = df['Profit in $10,000s'].values.reshape((m,1))\n",
    "\n",
    "#Visualización\n",
    "ax = sns.scatterplot(x=df.iloc[:,1], y=df.iloc[:,2], data=df)"
   ]
  },
  {
   "cell_type": "markdown",
   "metadata": {},
   "source": [
    "## 2.Gradient Descent\n",
    "In this section, you will fit the linear regression parameters to our dataset using gradient descent."
   ]
  },
  {
   "cell_type": "markdown",
   "metadata": {},
   "source": [
    "The objective of linear regression is to minimize the cost function:\n",
    "\n",
    "$$ J\\left(\\theta \\right)=\\frac{1}{2m}\\sum_{i=1}^m {\\left(h_{\\theta \\;} \\left(x^{\\left(i\\right)} \\right)-y^{\\left(i\\right)} \\right)}^2$$"
   ]
  },
  {
   "cell_type": "markdown",
   "metadata": {},
   "source": [
    "where the hypothesis $h_{\\theta}(x)$  is given by the linear model\n",
    "\n",
    "$$ h_{\\theta } \\left(x\\right)=\\theta^T x=\\theta_0 +\\theta_1 x_1 $$\n",
    "\n",
    "One way to do this is to use the batch gradient descent algorithm. In batch gradient descent, each iteration performs the update\n",
    "\n",
    "$$ \\theta_j :=\\theta_j -\\alpha \\frac{\\;1}{m}\\sum_{i=1}^m \\;\\left(h_{\\theta \\;} \\left(x^{\\left(i\\right)} \\right)-y^{\\left(i\\right)} \\right)x_j^{\\left(i\\right)} \\;\\;\\;\\;\\;\\;\\;\\left(\\mathrm{simultaneously}\\;\\mathrm{update}\\;\\theta_{j\\;} \\;\\mathrm{for}\\;\\mathrm{all}\\;j\\right) $$\n",
    "\n",
    "With each step of gradient descent, your parameters  come closer to the optimal values that will achieve the lowest cost.\n",
    "\n",
    "\n"
   ]
  },
  {
   "cell_type": "markdown",
   "metadata": {},
   "source": [
    "### 2.1.Implementation"
   ]
  },
  {
   "cell_type": "code",
   "execution_count": 3,
   "metadata": {},
   "outputs": [],
   "source": [
    "theta = np.zeros((n,1)) #initialize fitting parameters\n",
    "iterations = 1500\n",
    "alpha = 0.01"
   ]
  },
  {
   "cell_type": "markdown",
   "metadata": {},
   "source": [
    "As you perform gradient descent to minimize the cost function , it is helpful to monitor the convergence by computing the cost. In this section, you will implement a function to calculate  so you can check the convergence of your gradient descent implementation."
   ]
  },
  {
   "cell_type": "markdown",
   "metadata": {},
   "source": [
    "### 2.2.Computing the cost "
   ]
  },
  {
   "cell_type": "code",
   "execution_count": 4,
   "metadata": {},
   "outputs": [
    {
     "data": {
      "text/plain": [
       "array([32.07273388])"
      ]
     },
     "execution_count": 4,
     "metadata": {},
     "output_type": "execute_result"
    }
   ],
   "source": [
    "#Cost function\n",
    "def computeCost(x, y, theta):\n",
    "    m = len(x)\n",
    "    hypoth = x @ theta;\n",
    "    a = hypoth - y;\n",
    "    return ((a.T @ a)/ (2 * m)).ravel()\n",
    "\n",
    "computeCost(X, y, theta)"
   ]
  },
  {
   "cell_type": "markdown",
   "metadata": {},
   "source": [
    "Next we call computeCost again, this time with non-zero theta values as an additional test. You should expect to see an output of 54.24 below:"
   ]
  },
  {
   "cell_type": "code",
   "execution_count": 5,
   "metadata": {},
   "outputs": [
    {
     "data": {
      "text/plain": [
       "array([54.24245508])"
      ]
     },
     "execution_count": 5,
     "metadata": {},
     "output_type": "execute_result"
    }
   ],
   "source": [
    "#Compute and display initial cost with non-zero theta\n",
    "computeCost(X, y,[[-1],[2]])"
   ]
  },
  {
   "cell_type": "markdown",
   "metadata": {},
   "source": [
    "### 2.3.Gradient descent"
   ]
  },
  {
   "cell_type": "markdown",
   "metadata": {},
   "source": [
    "As you program, make sure you understand what you are trying to optimize and what is being updated. Keep in mind that the cost  is parameterized by the vector , not  and . That is, we minimize the value of  by changing the values of the vector , not by changing X or y.\n",
    "\n",
    "A good way to verify that gradient descent is working correctly is to look at the value of J and check that it is decreasing with each step. Assuming you have implemented gradient descent and computeCost correctly, your value of  should never increase, and should converge to a steady value by the end of the algorithm.\n",
    "\n",
    "Your final values for  will also be used to make predictions on profits in areas of 35,000 and 70,000 people."
   ]
  },
  {
   "cell_type": "code",
   "execution_count": 6,
   "metadata": {},
   "outputs": [],
   "source": [
    "def gradientDescent(x, y, theta, alpha, num_iters):\n",
    "    m = len(y)\n",
    "    J_hist =[]\n",
    "    \n",
    "    for i in range(num_iters):\n",
    "        hypoth = x @ theta\n",
    "        error = x.T @ (hypoth - y)\n",
    "        descent = alpha * error * (1/m);\n",
    "        theta = theta - descent\n",
    "        J_hist.append(computeCost(x,y,theta))\n",
    "    \n",
    "    return theta, J_hist"
   ]
  },
  {
   "cell_type": "code",
   "execution_count": 7,
   "metadata": {},
   "outputs": [
    {
     "name": "stdout",
     "output_type": "stream",
     "text": [
      "[[-3.63029144]\n",
      " [ 1.16636235]]\n"
     ]
    }
   ],
   "source": [
    "theta, J_history = gradientDescent(X,y,theta,0.01,1500)\n",
    "print(theta)"
   ]
  },
  {
   "cell_type": "code",
   "execution_count": 8,
   "metadata": {},
   "outputs": [
    {
     "data": {
      "text/plain": [
       "[<matplotlib.lines.Line2D at 0x1a21424250>]"
      ]
     },
     "execution_count": 8,
     "metadata": {},
     "output_type": "execute_result"
    },
    {
     "data": {
      "image/png": "[encoded data removed]",
      "text/plain": [
       "<Figure size 432x288 with 1 Axes>"
      ]
     },
     "metadata": {
      "needs_background": "light"
     },
     "output_type": "display_data"
    }
   ],
   "source": [
    "#Plotting the linear fit\n",
    "linear_func = lambda x: x @ theta\n",
    "ax = sns.scatterplot(x=df['Population of City in 10,000s'], \n",
    "                     y=df['Profit in $10,000s'],color=\"r\", data=df)\n",
    "plt.plot(df['Population of City in 10,000s'], linear_func(X))"
   ]
  },
  {
   "cell_type": "markdown",
   "metadata": {},
   "source": [
    "It is also possible to enhance a scatterplot to include a linear regression model (and its uncertainty) using $lmplot()$:"
   ]
  },
  {
   "cell_type": "code",
   "execution_count": 9,
   "metadata": {},
   "outputs": [
    {
     "data": {
      "text/plain": [
       "<seaborn.axisgrid.FacetGrid at 0x1a22731a90>"
      ]
     },
     "execution_count": 9,
     "metadata": {},
     "output_type": "execute_result"
    },
    {
     "data": {
      "image/png": "[encoded data removed]",
      "text/plain": [
       "<Figure size 360x360 with 1 Axes>"
      ]
     },
     "metadata": {
      "needs_background": "light"
     },
     "output_type": "display_data"
    }
   ],
   "source": [
    "sns.lmplot(x=\"Population of City in 10,000s\", y=\"Profit in $10,000s\",data=df)"
   ]
  },
  {
   "cell_type": "code",
   "execution_count": 10,
   "metadata": {},
   "outputs": [
    {
     "name": "stdout",
     "output_type": "stream",
     "text": [
      "For population = 35,000, we predict a profit of 4519.77\n"
     ]
    }
   ],
   "source": [
    "#Predict values for a population of size 35,000\n",
    "predict1 = (np.array([[1, 3.5]]) @ theta).ravel()\n",
    "r1 = predict1 * 10000\n",
    "print(\"For population = 35,000, we predict a profit of {:.2f}\".format(r1[0]))"
   ]
  },
  {
   "cell_type": "code",
   "execution_count": 11,
   "metadata": {},
   "outputs": [
    {
     "name": "stdout",
     "output_type": "stream",
     "text": [
      "For population = 70,000, we predict a profit of 45342.45\n"
     ]
    }
   ],
   "source": [
    "#Predict values for a population of size 70,000\n",
    "predict2 = (np.array([[1, 7]]) @ theta).ravel()\n",
    "r2 = predict2 * 10000\n",
    "print(\"For population = 70,000, we predict a profit of {:.2f}\".format(r2[0]))"
   ]
  },
  {
   "cell_type": "markdown",
   "metadata": {},
   "source": [
    "### 2.4.Visualizing \n"
   ]
  },
  {
   "cell_type": "code",
   "execution_count": 12,
   "metadata": {},
   "outputs": [
    {
     "data": {
      "text/plain": [
       "<seaborn.axisgrid.FacetGrid at 0x1a22707d50>"
      ]
     },
     "execution_count": 12,
     "metadata": {},
     "output_type": "execute_result"
    },
    {
     "data": {
      "image/png": "[encoded data removed]",
      "text/plain": [
       "<Figure size 360x360 with 1 Axes>"
      ]
     },
     "metadata": {
      "needs_background": "light"
     },
     "output_type": "display_data"
    }
   ],
   "source": [
    "#Plot the convergence graph\n",
    "dic = {'Number of iterations': range(iterations), 'Cost J':J_history}\n",
    "df_jhist = pd.DataFrame(dic)\n",
    "sns.relplot(x='Number of iterations', y='Cost J', data=df_jhist)"
   ]
  },
  {
   "cell_type": "markdown",
   "metadata": {},
   "source": [
    "## 3. Linear regression with multiple variables\n",
    "\n",
    "In this part, you will implement linear regression with multiple variables to predict the prices of houses. Suppose you are selling your house and you want to know what a good market price would be. One way to do this is to first collect information on recent houses sold and make a model of housing prices.\n",
    "    The file ex1data2.txt contains a training set of housing prices in Portland, Oregon. The first column is the size of the house (in square feet), the second column is the number of bedrooms, and the third column is the price of the house."
   ]
  },
  {
   "cell_type": "code",
   "execution_count": 25,
   "metadata": {},
   "outputs": [
    {
     "data": {
      "text/html": [
       "<div>\n",
       "<style scoped>\n",
       "    .dataframe tbody tr th:only-of-type {\n",
       "        vertical-align: middle;\n",
       "    }\n",
       "\n",
       "    .dataframe tbody tr th {\n",
       "        vertical-align: top;\n",
       "    }\n",
       "\n",
       "    .dataframe thead th {\n",
       "        text-align: right;\n",
       "    }\n",
       "</style>\n",
       "<table border=\"1\" class=\"dataframe\">\n",
       "  <thead>\n",
       "    <tr style=\"text-align: right;\">\n",
       "      <th></th>\n",
       "      <th>Size</th>\n",
       "      <th>Number of bedrooms</th>\n",
       "      <th>Price</th>\n",
       "    </tr>\n",
       "  </thead>\n",
       "  <tbody>\n",
       "    <tr>\n",
       "      <td>0</td>\n",
       "      <td>2104</td>\n",
       "      <td>3</td>\n",
       "      <td>399900</td>\n",
       "    </tr>\n",
       "    <tr>\n",
       "      <td>1</td>\n",
       "      <td>1600</td>\n",
       "      <td>3</td>\n",
       "      <td>329900</td>\n",
       "    </tr>\n",
       "    <tr>\n",
       "      <td>2</td>\n",
       "      <td>2400</td>\n",
       "      <td>3</td>\n",
       "      <td>369000</td>\n",
       "    </tr>\n",
       "    <tr>\n",
       "      <td>3</td>\n",
       "      <td>1416</td>\n",
       "      <td>2</td>\n",
       "      <td>232000</td>\n",
       "    </tr>\n",
       "    <tr>\n",
       "      <td>4</td>\n",
       "      <td>3000</td>\n",
       "      <td>4</td>\n",
       "      <td>539900</td>\n",
       "    </tr>\n",
       "  </tbody>\n",
       "</table>\n",
       "</div>"
      ],
      "text/plain": [
       "   Size  Number of bedrooms   Price\n",
       "0  2104                   3  399900\n",
       "1  1600                   3  329900\n",
       "2  2400                   3  369000\n",
       "3  1416                   2  232000\n",
       "4  3000                   4  539900"
      ]
     },
     "execution_count": 25,
     "metadata": {},
     "output_type": "execute_result"
    }
   ],
   "source": [
    "headers = ['Size','Number of bedrooms', 'Price']\n",
    "df_2 = pd.read_csv('ex1data2.txt', header=None, names=headers)\n",
    "df_2.head()"
   ]
  },
  {
   "cell_type": "code",
   "execution_count": 26,
   "metadata": {},
   "outputs": [],
   "source": [
    "#Particionamos nuestra base de datos\n",
    "m,n = df_2.shape \n",
    "X = df_2[['Size', 'Number of bedrooms']]\n",
    "y = df_2['Price'].values.reshape((m,1))"
   ]
  },
  {
   "cell_type": "markdown",
   "metadata": {},
   "source": [
    "### 3.1. Featured normalization\n",
    "This section of the script will start by loading and displaying some values from this dataset. By looking at the values, note that house sizes are about 1000 times the number of bedrooms. When features differ by orders of magnitude, first performing feature scaling can make gradient descent converge much more quickly.\n",
    "Our task here is to create a code to:\n",
    "+ Subtract the mean value of each feature from the dataset.\n",
    "+ After subtracting the mean, additionally scale (divide) the feature values by their respective \"standard deviations\".\n",
    "\n",
    "The standard deviation is a way of measuring how much variation there is in the range of values of a particular feature (most data points will lie within  standard deviations of the mean); this is an alternative to taking the range of values (max - min). You will do this for all the features and your code should work with datasets of all sizes (any number of features / examples). Note that each column of the matrix X corresponds to one feature.\n",
    "\n",
    "Implementation Note: When normalizing the features, it is important to store the values used for normalization - the mean value and the standard deviation used for the computations. After learning the parameters from the model, we often want to predict the prices of houses we have not seen before. Given a new x value (living room area and number of bedrooms), we must first normalize x using the mean and standard deviation that we had previously computed from the training set."
   ]
  },
  {
   "cell_type": "code",
   "execution_count": 27,
   "metadata": {},
   "outputs": [],
   "source": [
    "mean = X.mean()\n",
    "std = X.std()\n",
    "X_nom = (X - mean) / std"
   ]
  },
  {
   "cell_type": "markdown",
   "metadata": {},
   "source": [
    "Now that we have normailzed the features, we again add a column of ones corresponding to  to the data matrix X."
   ]
  },
  {
   "cell_type": "code",
   "execution_count": 28,
   "metadata": {},
   "outputs": [],
   "source": [
    "X_nom.insert(0, \"1's\", np.ones((m,1)), True) \n",
    "X = X_nom.values"
   ]
  },
  {
   "cell_type": "markdown",
   "metadata": {},
   "source": [
    "### 3.2. Gradient descent"
   ]
  },
  {
   "cell_type": "code",
   "execution_count": 29,
   "metadata": {},
   "outputs": [
    {
     "name": "stdout",
     "output_type": "stream",
     "text": [
      "[[340412.65957447]\n",
      " [110631.04895815]\n",
      " [ -6649.47295013]]\n"
     ]
    }
   ],
   "source": [
    "#Run gradient descent\n",
    "alpha = 0.1 #Choose some alpha value\n",
    "num_iters = 400\n",
    "theta = np.zeros((3, 1)) #Init Theta and Run Gradient Descent \n",
    "\n",
    "theta, J_history = gradientDescent(X, y, theta, alpha, num_iters)\n",
    "print(theta)"
   ]
  },
  {
   "cell_type": "markdown",
   "metadata": {},
   "source": [
    "Finally, you should complete and run the code below to predict the price of a 1650 sq-ft, 3 br house using the value of theta obtained above. "
   ]
  },
  {
   "cell_type": "code",
   "execution_count": 30,
   "metadata": {},
   "outputs": [
    {
     "name": "stdout",
     "output_type": "stream",
     "text": [
      "Predicted price of a 1650 sq-ft, 3 br house (using gradient descent): $5030054715.05\n"
     ]
    }
   ],
   "source": [
    "p = (np.array([[1, 1.650, 3]]) @ theta).ravel()\n",
    "price = p * 10000\n",
    "print(\"Predicted price of a 1650 sq-ft, 3 br house (using gradient descent): ${:.2f}\".format(price[0]))"
   ]
  },
  {
   "cell_type": "markdown",
   "metadata": {},
   "source": [
    "### 3.3 Normal Equation\n",
    "In the lecture videos, you learned that the closed-form solution to linear regression is\n",
    "\n",
    "$$\\theta = \\left(X^T X\\right)^{-1} X^T \\vec{y} $$\n",
    "\n",
    "Using this formula does not require any feature scaling, and you will get an exact solution in one calculation: there is no \"loop until convergence\" like in gradient descent.\n",
    "Remember that while you don't need to scale your features, we still need to add a column of 1's to the X matrix to have an intercept term ($\\theta_0$). "
   ]
  },
  {
   "cell_type": "code",
   "execution_count": 31,
   "metadata": {},
   "outputs": [
    {
     "name": "stdout",
     "output_type": "stream",
     "text": [
      "[[340412.65957447]\n",
      " [110631.05027885]\n",
      " [ -6649.47427082]]\n"
     ]
    }
   ],
   "source": [
    "def normalEqn(x,y):\n",
    "    I = np.linalg.inv(x.T @ x)\n",
    "    return I @ (x.T @ y)\n",
    "\n",
    "theta_2 = normalEqn(X, y)\n",
    "print(theta_2)"
   ]
  }
 ],
 "metadata": {
  "kernelspec": {
   "display_name": "Python 3",
   "language": "python",
   "name": "python3"
  },
  "language_info": {
   "codemirror_mode": {
    "name": "ipython",
    "version": 3
   },
   "file_extension": ".py",
   "mimetype": "text/x-python",
   "name": "python",
   "nbconvert_exporter": "python",
   "pygments_lexer": "ipython3",
   "version": "3.7.4"
  }
 },
 "nbformat": 4,
 "nbformat_minor": 2
}
